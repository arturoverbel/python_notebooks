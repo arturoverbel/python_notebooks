{
 "cells": [
  {
   "cell_type": "code",
   "execution_count": 1,
   "metadata": {},
   "outputs": [
    {
     "name": "stdout",
     "output_type": "stream",
     "text": [
      "1\n"
     ]
    }
   ],
   "source": [
    "import numpy as np\n",
    "from __future__ import division\n",
    "\n",
    "def probability(x, p):\n",
    "    x = np.array(x)\n",
    "    p = np.array(p)\n",
    "    y = np.random.rand()\n",
    "\n",
    "    cdf = np.cumsum(p)\n",
    "    total = len(x)\n",
    "\n",
    "    pos = 0\n",
    "\n",
    "    for n in range(total - 1):\n",
    "        pos = pos + (y >= cdf.item(n))\n",
    "\n",
    "    return x.item(pos)\n",
    "\n",
    "result = probability([0, 1, 3, 4], [0.1, 0.2, 0.1, 0.6])\n",
    "\n",
    "print(result)"
   ]
  },
  {
   "cell_type": "code",
   "execution_count": 2,
   "metadata": {},
   "outputs": [],
   "source": [
    "repeticiones = 10000\n",
    "datas = [0, 1, 2]\n",
    "probabilities = [0.4, 0.5, 0.1]"
   ]
  },
  {
   "cell_type": "code",
   "execution_count": 3,
   "metadata": {},
   "outputs": [
    {
     "name": "stdout",
     "output_type": "stream",
     "text": [
      "[ 0.4072  0.4871  0.1057]\n"
     ]
    }
   ],
   "source": [
    "results = np.zeros(repeticiones)\n",
    "\n",
    "for n in range(repeticiones):\n",
    "    results[n] = probability(datas, probabilities)\n",
    "\n",
    "total = len(datas)\n",
    "fr = np.zeros(total)\n",
    "\n",
    "for n in range(total):\n",
    "    fr[n] = np.sum(results == datas[n]) / repeticiones\n",
    "\n",
    "print(fr)"
   ]
  }
 ],
 "metadata": {
  "kernelspec": {
   "display_name": "Python 2",
   "language": "python",
   "name": "python2"
  },
  "language_info": {
   "codemirror_mode": {
    "name": "ipython",
    "version": 3
   },
   "file_extension": ".py",
   "mimetype": "text/x-python",
   "name": "python",
   "nbconvert_exporter": "python",
   "pygments_lexer": "ipython3",
   "version": "3.5.2"
  }
 },
 "nbformat": 4,
 "nbformat_minor": 2
}
