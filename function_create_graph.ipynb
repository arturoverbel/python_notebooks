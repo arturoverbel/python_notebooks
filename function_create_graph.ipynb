{
 "cells": [
  {
   "cell_type": "code",
   "execution_count": 1,
   "metadata": {},
   "outputs": [],
   "source": [
    "import numpy as np\n",
    "\n",
    "def probability(x, p):\n",
    "    x = np.array(x)\n",
    "    p = np.array(p)\n",
    "    y = np.random.rand()\n",
    "\n",
    "    cdf = np.cumsum(p)\n",
    "    total = len(x)\n",
    "\n",
    "    pos = 0\n",
    "\n",
    "    for n in range(total - 1):\n",
    "        pos = pos + (y >= cdf.item(n))\n",
    "\n",
    "    return x.item(pos)"
   ]
  },
  {
   "cell_type": "code",
   "execution_count": 2,
   "metadata": {},
   "outputs": [
    {
     "name": "stdout",
     "output_type": "stream",
     "text": [
      "[ 0.  0.  0.  0.  1.  1.  2.  3.  3.  4.  4.  4.  4.]\n",
      "[ 1.  2.  3.  4.  0.  2.  3.  0.  4.  0.  1.  2.  3.]\n",
      "[ 1.  2.  4.  1.  4.  2.  1.  4.  1.  4.  1.  2.  5.]\n"
     ]
    },
    {
     "data": {
      "text/plain": [
       "1"
      ]
     },
     "execution_count": 2,
     "metadata": {},
     "output_type": "execute_result"
    }
   ],
   "source": [
    "def creategraph(total_nodes, pro_edges, weights):\n",
    "    source = np.array([])\n",
    "    target = np.array([])\n",
    "    weight = np.array([])\n",
    "\n",
    "    for i in range(total_nodes):\n",
    "        for k in range(total_nodes):\n",
    "            if k == i:\n",
    "                continue\n",
    "\n",
    "            p = 1 - pro_edges\n",
    "            has_edge = probability([0, 1], [p, pro_edges])\n",
    "\n",
    "            if not has_edge:\n",
    "                continue\n",
    "\n",
    "            probabilities = np.zeros(len(weights))\n",
    "            probabilities = probabilities + (1 / len(weights))\n",
    "            w = probability(weights, probabilities)\n",
    "\n",
    "            source = np.append(source, i)\n",
    "            target = np.append(target, k)\n",
    "            weight = np.append(weight, w)\n",
    "    \n",
    "    print(source)\n",
    "    print(target)\n",
    "    print(weight)\n",
    "    \n",
    "    return 1\n",
    "\n",
    "creategraph(5, .65, [1, 2, 3, 4, 5])"
   ]
  }
 ],
 "metadata": {
  "kernelspec": {
   "display_name": "Python 3",
   "language": "python",
   "name": "python3"
  },
  "language_info": {
   "codemirror_mode": {
    "name": "ipython",
    "version": 3
   },
   "file_extension": ".py",
   "mimetype": "text/x-python",
   "name": "python",
   "nbconvert_exporter": "python",
   "pygments_lexer": "ipython3",
   "version": "3.5.2"
  }
 },
 "nbformat": 4,
 "nbformat_minor": 2
}
