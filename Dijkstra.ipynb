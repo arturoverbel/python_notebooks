{
 "cells": [
  {
   "cell_type": "code",
   "execution_count": 1,
   "metadata": {},
   "outputs": [],
   "source": [
    "import numpy as np\n",
    "\n",
    "class Graph_pro():\n",
    "\n",
    "    source = []\n",
    "    target = []\n",
    "    weight = []\n",
    "    vertex = []\n",
    "\n",
    "    undirected = 0\n",
    "\n",
    "    def __init__(self, source = [], target = [], weight = [], vertex = []):\n",
    "        self.source = np.array(source)\n",
    "        self.target = np.array(target)\n",
    "        self.weight = np.array(weight)\n",
    "        self.vertex = np.array(vertex)\n",
    "\n",
    "        self.set_vertex()\n",
    "\n",
    "    def print(self):\n",
    "        print(\"Source: \", self.source)\n",
    "        print(\"Target: \", self.target)\n",
    "        print(\"Weight: \", self.weight)\n",
    "        print(\"Vertex: \", self.vertex)\n",
    "\n",
    "    def set_vertex(self):\n",
    "        vertex = np.unique(self.source)\n",
    "        vertex2 = np.unique(self.target)\n",
    "        self.vertex = np.unique(np.concatenate([vertex, vertex2]))\n",
    "        return self.vertex\n",
    "\n",
    "    def get_weight(self, n1, n2):\n",
    "        return self.weight[np.logical_and(self.source == n1, self.target == n2)]\n",
    "\n",
    "    def dijkstra(self, source):\n",
    "\n",
    "        total_vertex = len(self.vertex)\n",
    "        Q = np.array(self.vertex)\n",
    "\n",
    "        dist = np.zeros(total_vertex)\n",
    "        dist.fill(np.inf)\n",
    "\n",
    "        dist[self.vertex == source] = 0\n",
    "\n",
    "        while len(Q) != 0:\n",
    "\n",
    "            min = np.inf\n",
    "            u = 0\n",
    "            for q in Q:\n",
    "                if dist[self.vertex == q] <= min:\n",
    "                    min = dist[self.vertex == q]\n",
    "                    u = q\n",
    "\n",
    "            Q = np.delete(Q, np.argwhere(Q == u))\n",
    "\n",
    "            for v in self.target[self.source == u]:\n",
    "                alt = dist[self.vertex == u] + self.get_weight(u, v)\n",
    "                index_v = self.vertex == v\n",
    "                if alt < dist[index_v]:\n",
    "                    dist[index_v] = alt\n",
    "\n",
    "        return dist\n",
    "\n"
   ]
  },
  {
   "cell_type": "raw",
   "metadata": {},
   "source": [
    "# A conitnuacion los resultados:"
   ]
  },
  {
   "cell_type": "code",
   "execution_count": 4,
   "metadata": {},
   "outputs": [
    {
     "name": "stdout",
     "output_type": "stream",
     "text": [
      "Source:  [1 2 2 2 3 4 2 5]\n",
      "Target:  [2 1 3 4 4 3 5 4]\n",
      "Weight:  [1 1 2 4 1 1 2 2]\n",
      "Vertex:  [1 2 3 4 5]\n",
      "------------------------\n",
      "Dikstra: \n",
      "[1. 0. 2. 3. 2.]\n"
     ]
    }
   ],
   "source": [
    "source = [1,2,2,2,3,4,2,5]\n",
    "target = [2,1,3,4,4,3,5,4]\n",
    "weight = [1,1,2,4,1,1,2,2]\n",
    "\n",
    "G = Graph_pro(source, target, weight)\n",
    "G.print()\n",
    "\n",
    "print(\"------------------------\")\n",
    "print(\"Dikstra: \")\n",
    "print(G.dijkstra(2))"
   ]
  },
  {
   "cell_type": "code",
   "execution_count": null,
   "metadata": {},
   "outputs": [],
   "source": []
  }
 ],
 "metadata": {
  "kernelspec": {
   "display_name": "Python 2",
   "language": "python",
   "name": "python2"
  },
  "language_info": {
   "codemirror_mode": {
    "name": "ipython",
    "version": 2
   },
   "file_extension": ".py",
   "mimetype": "text/x-python",
   "name": "python",
   "nbconvert_exporter": "python",
   "pygments_lexer": "ipython2",
   "version": "2.7.12"
  }
 },
 "nbformat": 4,
 "nbformat_minor": 2
}
